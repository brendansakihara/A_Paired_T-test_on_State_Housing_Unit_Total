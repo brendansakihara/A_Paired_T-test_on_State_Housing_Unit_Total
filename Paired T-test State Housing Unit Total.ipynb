{
 "cells": [
  {
   "cell_type": "markdown",
   "metadata": {},
   "source": [
    "# A Paired T-test on Housing Unit Totals in the United States"
   ]
  },
  {
   "cell_type": "markdown",
   "metadata": {},
   "source": [
    "I will be making a paired t-test on housing unit totals in the United States. I will be testing to see if the housing unit prices actually changed from 2020 to 2023.\n",
    "\n",
    "Dataset: https://www.census.gov/data/tables/time-series/demo/popest/2020s-total-housing-units.html"
   ]
  },
  {
   "cell_type": "code",
   "execution_count": 69,
   "metadata": {},
   "outputs": [],
   "source": [
    "# Importing the basic packages\n",
    "import pandas as pd\n",
    "import numpy as np\n",
    "import math"
   ]
  },
  {
   "cell_type": "markdown",
   "metadata": {},
   "source": [
    "### Data Cleaning/Preparing"
   ]
  },
  {
   "cell_type": "code",
   "execution_count": 70,
   "metadata": {},
   "outputs": [
    {
     "data": {
      "text/html": [
       "<div>\n",
       "<style scoped>\n",
       "    .dataframe tbody tr th:only-of-type {\n",
       "        vertical-align: middle;\n",
       "    }\n",
       "\n",
       "    .dataframe tbody tr th {\n",
       "        vertical-align: top;\n",
       "    }\n",
       "\n",
       "    .dataframe thead th {\n",
       "        text-align: right;\n",
       "    }\n",
       "</style>\n",
       "<table border=\"1\" class=\"dataframe\">\n",
       "  <thead>\n",
       "    <tr style=\"text-align: right;\">\n",
       "      <th></th>\n",
       "      <th>Geographic Area</th>\n",
       "      <th>Estimate</th>\n",
       "      <th>2020</th>\n",
       "      <th>2021</th>\n",
       "      <th>2022</th>\n",
       "      <th>2023</th>\n",
       "    </tr>\n",
       "  </thead>\n",
       "  <tbody>\n",
       "    <tr>\n",
       "      <th>0</th>\n",
       "      <td>United States</td>\n",
       "      <td>140498736.0</td>\n",
       "      <td>140808401.0</td>\n",
       "      <td>142163952.0</td>\n",
       "      <td>143789637.0</td>\n",
       "      <td>145344636.0</td>\n",
       "    </tr>\n",
       "    <tr>\n",
       "      <th>1</th>\n",
       "      <td>.Autauga County, Alabama</td>\n",
       "      <td>24351.0</td>\n",
       "      <td>24415.0</td>\n",
       "      <td>24765.0</td>\n",
       "      <td>25110.0</td>\n",
       "      <td>25318.0</td>\n",
       "    </tr>\n",
       "    <tr>\n",
       "      <th>2</th>\n",
       "      <td>.Baldwin County, Alabama</td>\n",
       "      <td>124148.0</td>\n",
       "      <td>124915.0</td>\n",
       "      <td>128477.0</td>\n",
       "      <td>132248.0</td>\n",
       "      <td>135669.0</td>\n",
       "    </tr>\n",
       "    <tr>\n",
       "      <th>3</th>\n",
       "      <td>.Barbour County, Alabama</td>\n",
       "      <td>11618.0</td>\n",
       "      <td>11626.0</td>\n",
       "      <td>11675.0</td>\n",
       "      <td>11755.0</td>\n",
       "      <td>11816.0</td>\n",
       "    </tr>\n",
       "    <tr>\n",
       "      <th>4</th>\n",
       "      <td>.Bibb County, Alabama</td>\n",
       "      <td>9004.0</td>\n",
       "      <td>9016.0</td>\n",
       "      <td>9077.0</td>\n",
       "      <td>9155.0</td>\n",
       "      <td>9208.0</td>\n",
       "    </tr>\n",
       "  </tbody>\n",
       "</table>\n",
       "</div>"
      ],
      "text/plain": [
       "            Geographic Area     Estimate         2020         2021  \\\n",
       "0             United States  140498736.0  140808401.0  142163952.0   \n",
       "1  .Autauga County, Alabama      24351.0      24415.0      24765.0   \n",
       "2  .Baldwin County, Alabama     124148.0     124915.0     128477.0   \n",
       "3  .Barbour County, Alabama      11618.0      11626.0      11675.0   \n",
       "4     .Bibb County, Alabama       9004.0       9016.0       9077.0   \n",
       "\n",
       "          2022         2023  \n",
       "0  143789637.0  145344636.0  \n",
       "1      25110.0      25318.0  \n",
       "2     132248.0     135669.0  \n",
       "3      11755.0      11816.0  \n",
       "4       9155.0       9208.0  "
      ]
     },
     "execution_count": 70,
     "metadata": {},
     "output_type": "execute_result"
    }
   ],
   "source": [
    "# Importing the dataset\n",
    "df = pd.read_excel('CO-EST2023-HU.xlsx')\n",
    "\n",
    "df.head()"
   ]
  },
  {
   "cell_type": "code",
   "execution_count": 71,
   "metadata": {},
   "outputs": [],
   "source": [
    "# Removing the '.' at the beginning of each geographic area\n",
    "df['Geographic Area'] = df['Geographic Area'].str.replace('.','')"
   ]
  },
  {
   "cell_type": "code",
   "execution_count": 72,
   "metadata": {},
   "outputs": [
    {
     "data": {
      "text/html": [
       "<div>\n",
       "<style scoped>\n",
       "    .dataframe tbody tr th:only-of-type {\n",
       "        vertical-align: middle;\n",
       "    }\n",
       "\n",
       "    .dataframe tbody tr th {\n",
       "        vertical-align: top;\n",
       "    }\n",
       "\n",
       "    .dataframe thead th {\n",
       "        text-align: right;\n",
       "    }\n",
       "</style>\n",
       "<table border=\"1\" class=\"dataframe\">\n",
       "  <thead>\n",
       "    <tr style=\"text-align: right;\">\n",
       "      <th></th>\n",
       "      <th>Geographic Area</th>\n",
       "      <th>Estimate</th>\n",
       "      <th>2020</th>\n",
       "      <th>2021</th>\n",
       "      <th>2022</th>\n",
       "      <th>2023</th>\n",
       "    </tr>\n",
       "  </thead>\n",
       "  <tbody>\n",
       "    <tr>\n",
       "      <th>0</th>\n",
       "      <td>United States</td>\n",
       "      <td>140498736.0</td>\n",
       "      <td>140808401.0</td>\n",
       "      <td>142163952.0</td>\n",
       "      <td>143789637.0</td>\n",
       "      <td>145344636.0</td>\n",
       "    </tr>\n",
       "    <tr>\n",
       "      <th>1</th>\n",
       "      <td>Autauga County, Alabama</td>\n",
       "      <td>24351.0</td>\n",
       "      <td>24415.0</td>\n",
       "      <td>24765.0</td>\n",
       "      <td>25110.0</td>\n",
       "      <td>25318.0</td>\n",
       "    </tr>\n",
       "    <tr>\n",
       "      <th>2</th>\n",
       "      <td>Baldwin County, Alabama</td>\n",
       "      <td>124148.0</td>\n",
       "      <td>124915.0</td>\n",
       "      <td>128477.0</td>\n",
       "      <td>132248.0</td>\n",
       "      <td>135669.0</td>\n",
       "    </tr>\n",
       "    <tr>\n",
       "      <th>3</th>\n",
       "      <td>Barbour County, Alabama</td>\n",
       "      <td>11618.0</td>\n",
       "      <td>11626.0</td>\n",
       "      <td>11675.0</td>\n",
       "      <td>11755.0</td>\n",
       "      <td>11816.0</td>\n",
       "    </tr>\n",
       "    <tr>\n",
       "      <th>4</th>\n",
       "      <td>Bibb County, Alabama</td>\n",
       "      <td>9004.0</td>\n",
       "      <td>9016.0</td>\n",
       "      <td>9077.0</td>\n",
       "      <td>9155.0</td>\n",
       "      <td>9208.0</td>\n",
       "    </tr>\n",
       "  </tbody>\n",
       "</table>\n",
       "</div>"
      ],
      "text/plain": [
       "           Geographic Area     Estimate         2020         2021  \\\n",
       "0            United States  140498736.0  140808401.0  142163952.0   \n",
       "1  Autauga County, Alabama      24351.0      24415.0      24765.0   \n",
       "2  Baldwin County, Alabama     124148.0     124915.0     128477.0   \n",
       "3  Barbour County, Alabama      11618.0      11626.0      11675.0   \n",
       "4     Bibb County, Alabama       9004.0       9016.0       9077.0   \n",
       "\n",
       "          2022         2023  \n",
       "0  143789637.0  145344636.0  \n",
       "1      25110.0      25318.0  \n",
       "2     132248.0     135669.0  \n",
       "3      11755.0      11816.0  \n",
       "4       9155.0       9208.0  "
      ]
     },
     "execution_count": 72,
     "metadata": {},
     "output_type": "execute_result"
    }
   ],
   "source": [
    "df.head()"
   ]
  },
  {
   "cell_type": "code",
   "execution_count": 73,
   "metadata": {},
   "outputs": [
    {
     "data": {
      "text/html": [
       "<div>\n",
       "<style scoped>\n",
       "    .dataframe tbody tr th:only-of-type {\n",
       "        vertical-align: middle;\n",
       "    }\n",
       "\n",
       "    .dataframe tbody tr th {\n",
       "        vertical-align: top;\n",
       "    }\n",
       "\n",
       "    .dataframe thead th {\n",
       "        text-align: right;\n",
       "    }\n",
       "</style>\n",
       "<table border=\"1\" class=\"dataframe\">\n",
       "  <thead>\n",
       "    <tr style=\"text-align: right;\">\n",
       "      <th></th>\n",
       "      <th>Estimate</th>\n",
       "      <th>2020</th>\n",
       "      <th>2021</th>\n",
       "      <th>2022</th>\n",
       "      <th>2023</th>\n",
       "    </tr>\n",
       "  </thead>\n",
       "  <tbody>\n",
       "    <tr>\n",
       "      <th>count</th>\n",
       "      <td>3.145000e+03</td>\n",
       "      <td>3.145000e+03</td>\n",
       "      <td>3.145000e+03</td>\n",
       "      <td>3.145000e+03</td>\n",
       "      <td>3.145000e+03</td>\n",
       "    </tr>\n",
       "    <tr>\n",
       "      <th>mean</th>\n",
       "      <td>8.934737e+04</td>\n",
       "      <td>8.954429e+04</td>\n",
       "      <td>9.040633e+04</td>\n",
       "      <td>9.144015e+04</td>\n",
       "      <td>9.242902e+04</td>\n",
       "    </tr>\n",
       "    <tr>\n",
       "      <th>std</th>\n",
       "      <td>2.507977e+06</td>\n",
       "      <td>2.513506e+06</td>\n",
       "      <td>2.537699e+06</td>\n",
       "      <td>2.566712e+06</td>\n",
       "      <td>2.594468e+06</td>\n",
       "    </tr>\n",
       "    <tr>\n",
       "      <th>min</th>\n",
       "      <td>3.400000e+01</td>\n",
       "      <td>3.400000e+01</td>\n",
       "      <td>3.400000e+01</td>\n",
       "      <td>3.500000e+01</td>\n",
       "      <td>3.500000e+01</td>\n",
       "    </tr>\n",
       "    <tr>\n",
       "      <th>25%</th>\n",
       "      <td>5.202000e+03</td>\n",
       "      <td>5.216000e+03</td>\n",
       "      <td>5.231000e+03</td>\n",
       "      <td>5.269000e+03</td>\n",
       "      <td>5.296000e+03</td>\n",
       "    </tr>\n",
       "    <tr>\n",
       "      <th>50%</th>\n",
       "      <td>1.229500e+04</td>\n",
       "      <td>1.230900e+04</td>\n",
       "      <td>1.237300e+04</td>\n",
       "      <td>1.246000e+04</td>\n",
       "      <td>1.252000e+04</td>\n",
       "    </tr>\n",
       "    <tr>\n",
       "      <th>75%</th>\n",
       "      <td>3.154600e+04</td>\n",
       "      <td>3.156300e+04</td>\n",
       "      <td>3.173200e+04</td>\n",
       "      <td>3.207400e+04</td>\n",
       "      <td>3.236200e+04</td>\n",
       "    </tr>\n",
       "    <tr>\n",
       "      <th>max</th>\n",
       "      <td>1.404987e+08</td>\n",
       "      <td>1.408084e+08</td>\n",
       "      <td>1.421640e+08</td>\n",
       "      <td>1.437896e+08</td>\n",
       "      <td>1.453446e+08</td>\n",
       "    </tr>\n",
       "  </tbody>\n",
       "</table>\n",
       "</div>"
      ],
      "text/plain": [
       "           Estimate          2020          2021          2022          2023\n",
       "count  3.145000e+03  3.145000e+03  3.145000e+03  3.145000e+03  3.145000e+03\n",
       "mean   8.934737e+04  8.954429e+04  9.040633e+04  9.144015e+04  9.242902e+04\n",
       "std    2.507977e+06  2.513506e+06  2.537699e+06  2.566712e+06  2.594468e+06\n",
       "min    3.400000e+01  3.400000e+01  3.400000e+01  3.500000e+01  3.500000e+01\n",
       "25%    5.202000e+03  5.216000e+03  5.231000e+03  5.269000e+03  5.296000e+03\n",
       "50%    1.229500e+04  1.230900e+04  1.237300e+04  1.246000e+04  1.252000e+04\n",
       "75%    3.154600e+04  3.156300e+04  3.173200e+04  3.207400e+04  3.236200e+04\n",
       "max    1.404987e+08  1.408084e+08  1.421640e+08  1.437896e+08  1.453446e+08"
      ]
     },
     "execution_count": 73,
     "metadata": {},
     "output_type": "execute_result"
    }
   ],
   "source": [
    "df.describe()"
   ]
  },
  {
   "cell_type": "code",
   "execution_count": 74,
   "metadata": {},
   "outputs": [
    {
     "data": {
      "text/plain": [
       "Index(['Geographic Area', 'Estimate', 2020, 2021, 2022, 2023], dtype='object')"
      ]
     },
     "execution_count": 74,
     "metadata": {},
     "output_type": "execute_result"
    }
   ],
   "source": [
    "df.columns"
   ]
  },
  {
   "cell_type": "code",
   "execution_count": 75,
   "metadata": {},
   "outputs": [
    {
     "data": {
      "text/plain": [
       "Geographic Area     object\n",
       "Estimate           float64\n",
       "2020               float64\n",
       "2021               float64\n",
       "2022               float64\n",
       "2023               float64\n",
       "dtype: object"
      ]
     },
     "execution_count": 75,
     "metadata": {},
     "output_type": "execute_result"
    }
   ],
   "source": [
    "df.dtypes"
   ]
  },
  {
   "cell_type": "code",
   "execution_count": 76,
   "metadata": {},
   "outputs": [
    {
     "data": {
      "text/plain": [
       "Geographic Area    0\n",
       "Estimate           6\n",
       "2020               6\n",
       "2021               6\n",
       "2022               6\n",
       "2023               6\n",
       "dtype: int64"
      ]
     },
     "execution_count": 76,
     "metadata": {},
     "output_type": "execute_result"
    }
   ],
   "source": [
    "# Checking if there is any null values\n",
    "df.isnull().sum()"
   ]
  },
  {
   "cell_type": "markdown",
   "metadata": {},
   "source": [
    "I saw that there were null values so I did a quick scroll on the dataset on Excel and saw that there was some information at the end of the spreadsheet which explains the null values."
   ]
  },
  {
   "attachments": {
    "image.png": {
     "image/png": "[encoded data removed]"
    }
   },
   "cell_type": "markdown",
   "metadata": {},
   "source": [
    "![image.png](attachment:image.png)"
   ]
  },
  {
   "cell_type": "code",
   "execution_count": 77,
   "metadata": {},
   "outputs": [
    {
     "data": {
      "text/html": [
       "<div>\n",
       "<style scoped>\n",
       "    .dataframe tbody tr th:only-of-type {\n",
       "        vertical-align: middle;\n",
       "    }\n",
       "\n",
       "    .dataframe tbody tr th {\n",
       "        vertical-align: top;\n",
       "    }\n",
       "\n",
       "    .dataframe thead th {\n",
       "        text-align: right;\n",
       "    }\n",
       "</style>\n",
       "<table border=\"1\" class=\"dataframe\">\n",
       "  <thead>\n",
       "    <tr style=\"text-align: right;\">\n",
       "      <th></th>\n",
       "      <th>Geographic Area</th>\n",
       "      <th>Estimate</th>\n",
       "      <th>2020</th>\n",
       "      <th>2021</th>\n",
       "      <th>2022</th>\n",
       "      <th>2023</th>\n",
       "    </tr>\n",
       "  </thead>\n",
       "  <tbody>\n",
       "    <tr>\n",
       "      <th>3146</th>\n",
       "      <td>Note: The estimates are based on the 2020 Cens...</td>\n",
       "      <td>NaN</td>\n",
       "      <td>NaN</td>\n",
       "      <td>NaN</td>\n",
       "      <td>NaN</td>\n",
       "      <td>NaN</td>\n",
       "    </tr>\n",
       "    <tr>\n",
       "      <th>3147</th>\n",
       "      <td>Suggested Citation:</td>\n",
       "      <td>NaN</td>\n",
       "      <td>NaN</td>\n",
       "      <td>NaN</td>\n",
       "      <td>NaN</td>\n",
       "      <td>NaN</td>\n",
       "    </tr>\n",
       "    <tr>\n",
       "      <th>3148</th>\n",
       "      <td>Annual Estimates of Housing Units for Counties...</td>\n",
       "      <td>NaN</td>\n",
       "      <td>NaN</td>\n",
       "      <td>NaN</td>\n",
       "      <td>NaN</td>\n",
       "      <td>NaN</td>\n",
       "    </tr>\n",
       "    <tr>\n",
       "      <th>3149</th>\n",
       "      <td>Source: US Census Bureau, Population Division</td>\n",
       "      <td>NaN</td>\n",
       "      <td>NaN</td>\n",
       "      <td>NaN</td>\n",
       "      <td>NaN</td>\n",
       "      <td>NaN</td>\n",
       "    </tr>\n",
       "    <tr>\n",
       "      <th>3150</th>\n",
       "      <td>Release Date: May 2024</td>\n",
       "      <td>NaN</td>\n",
       "      <td>NaN</td>\n",
       "      <td>NaN</td>\n",
       "      <td>NaN</td>\n",
       "      <td>NaN</td>\n",
       "    </tr>\n",
       "  </tbody>\n",
       "</table>\n",
       "</div>"
      ],
      "text/plain": [
       "                                        Geographic Area  Estimate  2020  2021  \\\n",
       "3146  Note: The estimates are based on the 2020 Cens...       NaN   NaN   NaN   \n",
       "3147                                Suggested Citation:       NaN   NaN   NaN   \n",
       "3148  Annual Estimates of Housing Units for Counties...       NaN   NaN   NaN   \n",
       "3149      Source: US Census Bureau, Population Division       NaN   NaN   NaN   \n",
       "3150                             Release Date: May 2024       NaN   NaN   NaN   \n",
       "\n",
       "      2022  2023  \n",
       "3146   NaN   NaN  \n",
       "3147   NaN   NaN  \n",
       "3148   NaN   NaN  \n",
       "3149   NaN   NaN  \n",
       "3150   NaN   NaN  "
      ]
     },
     "execution_count": 77,
     "metadata": {},
     "output_type": "execute_result"
    }
   ],
   "source": [
    "# These rows don't include geographic area and prices so I will remove these rows\n",
    "df.tail()"
   ]
  },
  {
   "cell_type": "code",
   "execution_count": 78,
   "metadata": {},
   "outputs": [],
   "source": [
    "# Dropping the null values\n",
    "df.dropna(inplace = True)"
   ]
  },
  {
   "cell_type": "code",
   "execution_count": 79,
   "metadata": {},
   "outputs": [
    {
     "data": {
      "text/plain": [
       "Geographic Area    0\n",
       "Estimate           0\n",
       "2020               0\n",
       "2021               0\n",
       "2022               0\n",
       "2023               0\n",
       "dtype: int64"
      ]
     },
     "execution_count": 79,
     "metadata": {},
     "output_type": "execute_result"
    }
   ],
   "source": [
    "# Checking the number of null values again\n",
    "df.isnull().sum()"
   ]
  },
  {
   "cell_type": "code",
   "execution_count": 80,
   "metadata": {},
   "outputs": [],
   "source": [
    "# Creating two dataframes of the before (2020) and after (2023)\n",
    "before = df[2020]\n",
    "after = df[2023]"
   ]
  },
  {
   "cell_type": "markdown",
   "metadata": {},
   "source": [
    "### Start Testing"
   ]
  },
  {
   "cell_type": "markdown",
   "metadata": {},
   "source": [
    "$H_{0}$: 2020 = 2023\n",
    " \n",
    "$H_{1}$: 2020 $\\not=$ 2023\n",
    "\n",
    "Confidence level: 95%\n",
    "\n",
    "With a confidence level of 95%, the p-value needs to be lower than 0.05 for use to reject the null hypothesis"
   ]
  },
  {
   "cell_type": "code",
   "execution_count": 81,
   "metadata": {},
   "outputs": [],
   "source": [
    "import scipy.stats as stats"
   ]
  },
  {
   "cell_type": "code",
   "execution_count": 82,
   "metadata": {},
   "outputs": [
    {
     "data": {
      "text/plain": [
       "TtestResult(statistic=-1.9965405980330828, pvalue=0.045961194983942695, df=3144)"
      ]
     },
     "execution_count": 82,
     "metadata": {},
     "output_type": "execute_result"
    }
   ],
   "source": [
    "# Paired T-test\n",
    "stats.ttest_rel(a = before,\n",
    "                b = after)"
   ]
  },
  {
   "cell_type": "markdown",
   "metadata": {},
   "source": [
    "The t-statistic of -2 means that that this value lies to the left side of the mean.\n",
    "\n",
    "A p-value of 0.046 means that there is a 4.6% chance that the before and after observations are the same. This means that there is a 95.4% chance that the paired observations is significantly different.\n",
    "\n",
    "We can reject the null hypothesis at a confidence level at 95%."
   ]
  }
 ],
 "metadata": {
  "kernelspec": {
   "display_name": "Python 3",
   "language": "python",
   "name": "python3"
  },
  "language_info": {
   "codemirror_mode": {
    "name": "ipython",
    "version": 3
   },
   "file_extension": ".py",
   "mimetype": "text/x-python",
   "name": "python",
   "nbconvert_exporter": "python",
   "pygments_lexer": "ipython3",
   "version": "3.11.4"
  }
 },
 "nbformat": 4,
 "nbformat_minor": 2
}
